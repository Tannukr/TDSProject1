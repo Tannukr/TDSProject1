{
  "nbformat": 4,
  "nbformat_minor": 0,
  "metadata": {
    "colab": {
      "provenance": []
    },
    "kernelspec": {
      "name": "python3",
      "display_name": "Python 3"
    },
    "language_info": {
      "name": "python"
    }
  },
  "cells": [
    {
      "cell_type": "code",
      "execution_count": 1,
      "metadata": {
        "id": "WnvhVPN7R59n"
      },
      "outputs": [],
      "source": [
        "\n",
        "import numpy as np\n",
        "import pandas as pd"
      ]
    },
    {
      "cell_type": "code",
      "source": [
        "import pandas as pd\n",
        "\n",
        "# Load the CSV files from the raw GitHub URL\n",
        "users = pd.read_csv('https://raw.githubusercontent.com/Tannukr/TDSProject1/main/users.csv')\n",
        "repos = pd.read_csv('https://raw.githubusercontent.com/Tannukr/TDSProject1/main/repositories.csv')\n"
      ],
      "metadata": {
        "id": "Z8y2vIvASHKQ"
      },
      "execution_count": 6,
      "outputs": []
    },
    {
      "cell_type": "code",
      "source": [
        "#Data Preprocessing\n",
        "users['hireable'] = users['hireable'].replace({True: 'true', False: 'false'})\n",
        "users['created_at'] = pd.to_datetime(users['created_at'])\n",
        "users.head()\n",
        ""
      ],
      "metadata": {
        "colab": {
          "base_uri": "https://localhost:8080/",
          "height": 293
        },
        "id": "CCgQoWdoSYbY",
        "outputId": "1e6791ab-a8e4-4706-a6ae-3b43104d18e7"
      },
      "execution_count": 7,
      "outputs": [
        {
          "output_type": "execute_result",
          "data": {
            "text/plain": [
              "                login                 name         company       location  \\\n",
              "0  ValentineFernandes  Valentine Fernandes             NaN  Mumbai, India   \n",
              "1          kovidgoyal          Kovid Goyal             NaN  Mumbai, India   \n",
              "2           slidenerd            slidenerd       SLIDENERD         Mumbai   \n",
              "3          aryashah2k            Arya Shah         OPENAOD  Mumbai, India   \n",
              "4       coding-parrot           Gaurav Sen  INTERVIEWREADY  Mumbai, India   \n",
              "\n",
              "                 email hireable  \\\n",
              "0                  NaN      NaN   \n",
              "1                  NaN      NaN   \n",
              "2  slidenerd@gmail.com     true   \n",
              "3                  NaN      NaN   \n",
              "4                  NaN      NaN   \n",
              "\n",
              "                                                 bio  public_repos  followers  \\\n",
              "0          HTML |  CSS |  JS  |  SQL |  MYSQL | JAVA            66       5250   \n",
              "1           Principal developer of calibre and kitty            37       4293   \n",
              "2  Bots, AI, advanced web frameworks, ohlc applic...           113       3168   \n",
              "3  Computer Science Major | Machine Learning | So...            88       2599   \n",
              "4                              CEO of InterviewReady            11       2416   \n",
              "\n",
              "   following                created_at  \n",
              "0       5274 2022-01-29 08:11:37+00:00  \n",
              "1          0 2012-01-06 05:38:24+00:00  \n",
              "2          1 2013-08-01 14:17:19+00:00  \n",
              "3       2583 2020-11-03 03:06:19+00:00  \n",
              "4          0 2020-01-03 14:13:35+00:00  "
            ],
            "text/html": [
              "\n",
              "  <div id=\"df-83c47e92-5cc3-4b6b-9b82-6eedbd7e2126\" class=\"colab-df-container\">\n",
              "    <div>\n",
              "<style scoped>\n",
              "    .dataframe tbody tr th:only-of-type {\n",
              "        vertical-align: middle;\n",
              "    }\n",
              "\n",
              "    .dataframe tbody tr th {\n",
              "        vertical-align: top;\n",
              "    }\n",
              "\n",
              "    .dataframe thead th {\n",
              "        text-align: right;\n",
              "    }\n",
              "</style>\n",
              "<table border=\"1\" class=\"dataframe\">\n",
              "  <thead>\n",
              "    <tr style=\"text-align: right;\">\n",
              "      <th></th>\n",
              "      <th>login</th>\n",
              "      <th>name</th>\n",
              "      <th>company</th>\n",
              "      <th>location</th>\n",
              "      <th>email</th>\n",
              "      <th>hireable</th>\n",
              "      <th>bio</th>\n",
              "      <th>public_repos</th>\n",
              "      <th>followers</th>\n",
              "      <th>following</th>\n",
              "      <th>created_at</th>\n",
              "    </tr>\n",
              "  </thead>\n",
              "  <tbody>\n",
              "    <tr>\n",
              "      <th>0</th>\n",
              "      <td>ValentineFernandes</td>\n",
              "      <td>Valentine Fernandes</td>\n",
              "      <td>NaN</td>\n",
              "      <td>Mumbai, India</td>\n",
              "      <td>NaN</td>\n",
              "      <td>NaN</td>\n",
              "      <td>HTML |  CSS |  JS  |  SQL |  MYSQL | JAVA</td>\n",
              "      <td>66</td>\n",
              "      <td>5250</td>\n",
              "      <td>5274</td>\n",
              "      <td>2022-01-29 08:11:37+00:00</td>\n",
              "    </tr>\n",
              "    <tr>\n",
              "      <th>1</th>\n",
              "      <td>kovidgoyal</td>\n",
              "      <td>Kovid Goyal</td>\n",
              "      <td>NaN</td>\n",
              "      <td>Mumbai, India</td>\n",
              "      <td>NaN</td>\n",
              "      <td>NaN</td>\n",
              "      <td>Principal developer of calibre and kitty</td>\n",
              "      <td>37</td>\n",
              "      <td>4293</td>\n",
              "      <td>0</td>\n",
              "      <td>2012-01-06 05:38:24+00:00</td>\n",
              "    </tr>\n",
              "    <tr>\n",
              "      <th>2</th>\n",
              "      <td>slidenerd</td>\n",
              "      <td>slidenerd</td>\n",
              "      <td>SLIDENERD</td>\n",
              "      <td>Mumbai</td>\n",
              "      <td>slidenerd@gmail.com</td>\n",
              "      <td>true</td>\n",
              "      <td>Bots, AI, advanced web frameworks, ohlc applic...</td>\n",
              "      <td>113</td>\n",
              "      <td>3168</td>\n",
              "      <td>1</td>\n",
              "      <td>2013-08-01 14:17:19+00:00</td>\n",
              "    </tr>\n",
              "    <tr>\n",
              "      <th>3</th>\n",
              "      <td>aryashah2k</td>\n",
              "      <td>Arya Shah</td>\n",
              "      <td>OPENAOD</td>\n",
              "      <td>Mumbai, India</td>\n",
              "      <td>NaN</td>\n",
              "      <td>NaN</td>\n",
              "      <td>Computer Science Major | Machine Learning | So...</td>\n",
              "      <td>88</td>\n",
              "      <td>2599</td>\n",
              "      <td>2583</td>\n",
              "      <td>2020-11-03 03:06:19+00:00</td>\n",
              "    </tr>\n",
              "    <tr>\n",
              "      <th>4</th>\n",
              "      <td>coding-parrot</td>\n",
              "      <td>Gaurav Sen</td>\n",
              "      <td>INTERVIEWREADY</td>\n",
              "      <td>Mumbai, India</td>\n",
              "      <td>NaN</td>\n",
              "      <td>NaN</td>\n",
              "      <td>CEO of InterviewReady</td>\n",
              "      <td>11</td>\n",
              "      <td>2416</td>\n",
              "      <td>0</td>\n",
              "      <td>2020-01-03 14:13:35+00:00</td>\n",
              "    </tr>\n",
              "  </tbody>\n",
              "</table>\n",
              "</div>\n",
              "    <div class=\"colab-df-buttons\">\n",
              "\n",
              "  <div class=\"colab-df-container\">\n",
              "    <button class=\"colab-df-convert\" onclick=\"convertToInteractive('df-83c47e92-5cc3-4b6b-9b82-6eedbd7e2126')\"\n",
              "            title=\"Convert this dataframe to an interactive table.\"\n",
              "            style=\"display:none;\">\n",
              "\n",
              "  <svg xmlns=\"http://www.w3.org/2000/svg\" height=\"24px\" viewBox=\"0 -960 960 960\">\n",
              "    <path d=\"M120-120v-720h720v720H120Zm60-500h600v-160H180v160Zm220 220h160v-160H400v160Zm0 220h160v-160H400v160ZM180-400h160v-160H180v160Zm440 0h160v-160H620v160ZM180-180h160v-160H180v160Zm440 0h160v-160H620v160Z\"/>\n",
              "  </svg>\n",
              "    </button>\n",
              "\n",
              "  <style>\n",
              "    .colab-df-container {\n",
              "      display:flex;\n",
              "      gap: 12px;\n",
              "    }\n",
              "\n",
              "    .colab-df-convert {\n",
              "      background-color: #E8F0FE;\n",
              "      border: none;\n",
              "      border-radius: 50%;\n",
              "      cursor: pointer;\n",
              "      display: none;\n",
              "      fill: #1967D2;\n",
              "      height: 32px;\n",
              "      padding: 0 0 0 0;\n",
              "      width: 32px;\n",
              "    }\n",
              "\n",
              "    .colab-df-convert:hover {\n",
              "      background-color: #E2EBFA;\n",
              "      box-shadow: 0px 1px 2px rgba(60, 64, 67, 0.3), 0px 1px 3px 1px rgba(60, 64, 67, 0.15);\n",
              "      fill: #174EA6;\n",
              "    }\n",
              "\n",
              "    .colab-df-buttons div {\n",
              "      margin-bottom: 4px;\n",
              "    }\n",
              "\n",
              "    [theme=dark] .colab-df-convert {\n",
              "      background-color: #3B4455;\n",
              "      fill: #D2E3FC;\n",
              "    }\n",
              "\n",
              "    [theme=dark] .colab-df-convert:hover {\n",
              "      background-color: #434B5C;\n",
              "      box-shadow: 0px 1px 3px 1px rgba(0, 0, 0, 0.15);\n",
              "      filter: drop-shadow(0px 1px 2px rgba(0, 0, 0, 0.3));\n",
              "      fill: #FFFFFF;\n",
              "    }\n",
              "  </style>\n",
              "\n",
              "    <script>\n",
              "      const buttonEl =\n",
              "        document.querySelector('#df-83c47e92-5cc3-4b6b-9b82-6eedbd7e2126 button.colab-df-convert');\n",
              "      buttonEl.style.display =\n",
              "        google.colab.kernel.accessAllowed ? 'block' : 'none';\n",
              "\n",
              "      async function convertToInteractive(key) {\n",
              "        const element = document.querySelector('#df-83c47e92-5cc3-4b6b-9b82-6eedbd7e2126');\n",
              "        const dataTable =\n",
              "          await google.colab.kernel.invokeFunction('convertToInteractive',\n",
              "                                                    [key], {});\n",
              "        if (!dataTable) return;\n",
              "\n",
              "        const docLinkHtml = 'Like what you see? Visit the ' +\n",
              "          '<a target=\"_blank\" href=https://colab.research.google.com/notebooks/data_table.ipynb>data table notebook</a>'\n",
              "          + ' to learn more about interactive tables.';\n",
              "        element.innerHTML = '';\n",
              "        dataTable['output_type'] = 'display_data';\n",
              "        await google.colab.output.renderOutput(dataTable, element);\n",
              "        const docLink = document.createElement('div');\n",
              "        docLink.innerHTML = docLinkHtml;\n",
              "        element.appendChild(docLink);\n",
              "      }\n",
              "    </script>\n",
              "  </div>\n",
              "\n",
              "\n",
              "<div id=\"df-628c4008-e1ef-4571-9f43-b56e7879a44a\">\n",
              "  <button class=\"colab-df-quickchart\" onclick=\"quickchart('df-628c4008-e1ef-4571-9f43-b56e7879a44a')\"\n",
              "            title=\"Suggest charts\"\n",
              "            style=\"display:none;\">\n",
              "\n",
              "<svg xmlns=\"http://www.w3.org/2000/svg\" height=\"24px\"viewBox=\"0 0 24 24\"\n",
              "     width=\"24px\">\n",
              "    <g>\n",
              "        <path d=\"M19 3H5c-1.1 0-2 .9-2 2v14c0 1.1.9 2 2 2h14c1.1 0 2-.9 2-2V5c0-1.1-.9-2-2-2zM9 17H7v-7h2v7zm4 0h-2V7h2v10zm4 0h-2v-4h2v4z\"/>\n",
              "    </g>\n",
              "</svg>\n",
              "  </button>\n",
              "\n",
              "<style>\n",
              "  .colab-df-quickchart {\n",
              "      --bg-color: #E8F0FE;\n",
              "      --fill-color: #1967D2;\n",
              "      --hover-bg-color: #E2EBFA;\n",
              "      --hover-fill-color: #174EA6;\n",
              "      --disabled-fill-color: #AAA;\n",
              "      --disabled-bg-color: #DDD;\n",
              "  }\n",
              "\n",
              "  [theme=dark] .colab-df-quickchart {\n",
              "      --bg-color: #3B4455;\n",
              "      --fill-color: #D2E3FC;\n",
              "      --hover-bg-color: #434B5C;\n",
              "      --hover-fill-color: #FFFFFF;\n",
              "      --disabled-bg-color: #3B4455;\n",
              "      --disabled-fill-color: #666;\n",
              "  }\n",
              "\n",
              "  .colab-df-quickchart {\n",
              "    background-color: var(--bg-color);\n",
              "    border: none;\n",
              "    border-radius: 50%;\n",
              "    cursor: pointer;\n",
              "    display: none;\n",
              "    fill: var(--fill-color);\n",
              "    height: 32px;\n",
              "    padding: 0;\n",
              "    width: 32px;\n",
              "  }\n",
              "\n",
              "  .colab-df-quickchart:hover {\n",
              "    background-color: var(--hover-bg-color);\n",
              "    box-shadow: 0 1px 2px rgba(60, 64, 67, 0.3), 0 1px 3px 1px rgba(60, 64, 67, 0.15);\n",
              "    fill: var(--button-hover-fill-color);\n",
              "  }\n",
              "\n",
              "  .colab-df-quickchart-complete:disabled,\n",
              "  .colab-df-quickchart-complete:disabled:hover {\n",
              "    background-color: var(--disabled-bg-color);\n",
              "    fill: var(--disabled-fill-color);\n",
              "    box-shadow: none;\n",
              "  }\n",
              "\n",
              "  .colab-df-spinner {\n",
              "    border: 2px solid var(--fill-color);\n",
              "    border-color: transparent;\n",
              "    border-bottom-color: var(--fill-color);\n",
              "    animation:\n",
              "      spin 1s steps(1) infinite;\n",
              "  }\n",
              "\n",
              "  @keyframes spin {\n",
              "    0% {\n",
              "      border-color: transparent;\n",
              "      border-bottom-color: var(--fill-color);\n",
              "      border-left-color: var(--fill-color);\n",
              "    }\n",
              "    20% {\n",
              "      border-color: transparent;\n",
              "      border-left-color: var(--fill-color);\n",
              "      border-top-color: var(--fill-color);\n",
              "    }\n",
              "    30% {\n",
              "      border-color: transparent;\n",
              "      border-left-color: var(--fill-color);\n",
              "      border-top-color: var(--fill-color);\n",
              "      border-right-color: var(--fill-color);\n",
              "    }\n",
              "    40% {\n",
              "      border-color: transparent;\n",
              "      border-right-color: var(--fill-color);\n",
              "      border-top-color: var(--fill-color);\n",
              "    }\n",
              "    60% {\n",
              "      border-color: transparent;\n",
              "      border-right-color: var(--fill-color);\n",
              "    }\n",
              "    80% {\n",
              "      border-color: transparent;\n",
              "      border-right-color: var(--fill-color);\n",
              "      border-bottom-color: var(--fill-color);\n",
              "    }\n",
              "    90% {\n",
              "      border-color: transparent;\n",
              "      border-bottom-color: var(--fill-color);\n",
              "    }\n",
              "  }\n",
              "</style>\n",
              "\n",
              "  <script>\n",
              "    async function quickchart(key) {\n",
              "      const quickchartButtonEl =\n",
              "        document.querySelector('#' + key + ' button');\n",
              "      quickchartButtonEl.disabled = true;  // To prevent multiple clicks.\n",
              "      quickchartButtonEl.classList.add('colab-df-spinner');\n",
              "      try {\n",
              "        const charts = await google.colab.kernel.invokeFunction(\n",
              "            'suggestCharts', [key], {});\n",
              "      } catch (error) {\n",
              "        console.error('Error during call to suggestCharts:', error);\n",
              "      }\n",
              "      quickchartButtonEl.classList.remove('colab-df-spinner');\n",
              "      quickchartButtonEl.classList.add('colab-df-quickchart-complete');\n",
              "    }\n",
              "    (() => {\n",
              "      let quickchartButtonEl =\n",
              "        document.querySelector('#df-628c4008-e1ef-4571-9f43-b56e7879a44a button');\n",
              "      quickchartButtonEl.style.display =\n",
              "        google.colab.kernel.accessAllowed ? 'block' : 'none';\n",
              "    })();\n",
              "  </script>\n",
              "</div>\n",
              "\n",
              "    </div>\n",
              "  </div>\n"
            ],
            "application/vnd.google.colaboratory.intrinsic+json": {
              "type": "dataframe",
              "variable_name": "users",
              "summary": "{\n  \"name\": \"users\",\n  \"rows\": 724,\n  \"fields\": [\n    {\n      \"column\": \"login\",\n      \"properties\": {\n        \"dtype\": \"string\",\n        \"num_unique_values\": 724,\n        \"samples\": [\n          \"therealharpaljadeja\",\n          \"ShankyTiwari\",\n          \"neophyt3\"\n        ],\n        \"semantic_type\": \"\",\n        \"description\": \"\"\n      }\n    },\n    {\n      \"column\": \"name\",\n      \"properties\": {\n        \"dtype\": \"string\",\n        \"num_unique_values\": 711,\n        \"samples\": [\n          \"Shantanu Oak\",\n          \"Chitrank Dixit\",\n          \"Sanjay Gupta\"\n        ],\n        \"semantic_type\": \"\",\n        \"description\": \"\"\n      }\n    },\n    {\n      \"column\": \"company\",\n      \"properties\": {\n        \"dtype\": \"category\",\n        \"num_unique_values\": 337,\n        \"samples\": [\n          \"ZESTMONEY\",\n          \"CIMPRESS\",\n          \"MATICNETWORK\"\n        ],\n        \"semantic_type\": \"\",\n        \"description\": \"\"\n      }\n    },\n    {\n      \"column\": \"location\",\n      \"properties\": {\n        \"dtype\": \"category\",\n        \"num_unique_values\": 113,\n        \"samples\": [\n          \"Mumbai / Bangalore\",\n          \"Navi Mumbai, India\",\n          \"Mumbai,Bharat\"\n        ],\n        \"semantic_type\": \"\",\n        \"description\": \"\"\n      }\n    },\n    {\n      \"column\": \"email\",\n      \"properties\": {\n        \"dtype\": \"category\",\n        \"num_unique_values\": 331,\n        \"samples\": [\n          \"amolele@gmail.com\",\n          \"miteshgoplani@gmail.com\",\n          \"rishabhpanesar@gmail.com\"\n        ],\n        \"semantic_type\": \"\",\n        \"description\": \"\"\n      }\n    },\n    {\n      \"column\": \"hireable\",\n      \"properties\": {\n        \"dtype\": \"category\",\n        \"num_unique_values\": 1,\n        \"samples\": [\n          \"true\"\n        ],\n        \"semantic_type\": \"\",\n        \"description\": \"\"\n      }\n    },\n    {\n      \"column\": \"bio\",\n      \"properties\": {\n        \"dtype\": \"string\",\n        \"num_unique_values\": 629,\n        \"samples\": [\n          \"\\r\\n Eager to Learn everything, desired to create new things!\\r\\n\"\n        ],\n        \"semantic_type\": \"\",\n        \"description\": \"\"\n      }\n    },\n    {\n      \"column\": \"public_repos\",\n      \"properties\": {\n        \"dtype\": \"number\",\n        \"std\": 114,\n        \"min\": 0,\n        \"max\": 2499,\n        \"num_unique_values\": 160,\n        \"samples\": [\n          90\n        ],\n        \"semantic_type\": \"\",\n        \"description\": \"\"\n      }\n    },\n    {\n      \"column\": \"followers\",\n      \"properties\": {\n        \"dtype\": \"number\",\n        \"std\": 336,\n        \"min\": 51,\n        \"max\": 5250,\n        \"num_unique_values\": 219,\n        \"samples\": [\n          115\n        ],\n        \"semantic_type\": \"\",\n        \"description\": \"\"\n      }\n    },\n    {\n      \"column\": \"following\",\n      \"properties\": {\n        \"dtype\": \"number\",\n        \"std\": 479,\n        \"min\": 0,\n        \"max\": 9058,\n        \"num_unique_values\": 233,\n        \"samples\": [\n          116\n        ],\n        \"semantic_type\": \"\",\n        \"description\": \"\"\n      }\n    },\n    {\n      \"column\": \"created_at\",\n      \"properties\": {\n        \"dtype\": \"date\",\n        \"min\": \"2008-04-04 08:04:42+00:00\",\n        \"max\": \"2024-03-29 06:23:16+00:00\",\n        \"num_unique_values\": 723,\n        \"samples\": [\n          \"2023-02-06 04:04:25+00:00\"\n        ],\n        \"semantic_type\": \"\",\n        \"description\": \"\"\n      }\n    }\n  ]\n}"
            }
          },
          "metadata": {},
          "execution_count": 7
        }
      ]
    },
    {
      "cell_type": "code",
      "source": [
        "\n",
        "users.info()\n",
        ""
      ],
      "metadata": {
        "colab": {
          "base_uri": "https://localhost:8080/"
        },
        "id": "l_mch5a0TBOT",
        "outputId": "844a2732-9870-493f-e552-b7ee803989e0"
      },
      "execution_count": 8,
      "outputs": [
        {
          "output_type": "stream",
          "name": "stdout",
          "text": [
            "<class 'pandas.core.frame.DataFrame'>\n",
            "RangeIndex: 724 entries, 0 to 723\n",
            "Data columns (total 11 columns):\n",
            " #   Column        Non-Null Count  Dtype              \n",
            "---  ------        --------------  -----              \n",
            " 0   login         724 non-null    object             \n",
            " 1   name          716 non-null    object             \n",
            " 2   company       405 non-null    object             \n",
            " 3   location      724 non-null    object             \n",
            " 4   email         331 non-null    object             \n",
            " 5   hireable      272 non-null    object             \n",
            " 6   bio           633 non-null    object             \n",
            " 7   public_repos  724 non-null    int64              \n",
            " 8   followers     724 non-null    int64              \n",
            " 9   following     724 non-null    int64              \n",
            " 10  created_at    724 non-null    datetime64[ns, UTC]\n",
            "dtypes: datetime64[ns, UTC](1), int64(3), object(7)\n",
            "memory usage: 62.3+ KB\n"
          ]
        }
      ]
    },
    {
      "cell_type": "code",
      "source": [
        "repos['has_projects'] = repos['has_projects'].replace({True: 'true', False: 'false'})\n",
        "repos['has_wiki'] = repos['has_wiki'].replace({True: 'true', False: 'false'})\n",
        "repos['created_at'] = pd.to_datetime(repos['created_at'])\n",
        "repos.head()"
      ],
      "metadata": {
        "colab": {
          "base_uri": "https://localhost:8080/",
          "height": 206
        },
        "id": "Ma4HSoGPTFWw",
        "outputId": "17476150-fcd6-4350-a11d-0770e649b7eb"
      },
      "execution_count": 9,
      "outputs": [
        {
          "output_type": "execute_result",
          "data": {
            "text/plain": [
              "                login                                  full_name  \\\n",
              "0  ValentineFernandes         ValentineFernandes/Age-Calculator-   \n",
              "1  ValentineFernandes                ValentineFernandes/ASP.NET-   \n",
              "2  ValentineFernandes          ValentineFernandes/Assignment-4.2   \n",
              "3  ValentineFernandes  ValentineFernandes/Bank-Management-System   \n",
              "4  ValentineFernandes  ValentineFernandes/BMI-Calculator-Website   \n",
              "\n",
              "                 created_at  stargazers_count  watchers_count language  \\\n",
              "0 2022-08-17 06:32:19+00:00                13              13      CSS   \n",
              "1 2022-04-26 10:12:11+00:00                18              18  ASP.NET   \n",
              "2 2022-04-14 11:55:25+00:00                15              15     HTML   \n",
              "3 2022-04-24 16:24:17+00:00                26              26        C   \n",
              "4 2022-08-17 04:47:27+00:00                11              11     HTML   \n",
              "\n",
              "  has_projects has_wiki license_name  \n",
              "0         true     true          mit  \n",
              "1         true     true          NaN  \n",
              "2         true     true          NaN  \n",
              "3         true     true          NaN  \n",
              "4         true     true          mit  "
            ],
            "text/html": [
              "\n",
              "  <div id=\"df-6ae4e594-6847-4914-9635-bc0cfe202f17\" class=\"colab-df-container\">\n",
              "    <div>\n",
              "<style scoped>\n",
              "    .dataframe tbody tr th:only-of-type {\n",
              "        vertical-align: middle;\n",
              "    }\n",
              "\n",
              "    .dataframe tbody tr th {\n",
              "        vertical-align: top;\n",
              "    }\n",
              "\n",
              "    .dataframe thead th {\n",
              "        text-align: right;\n",
              "    }\n",
              "</style>\n",
              "<table border=\"1\" class=\"dataframe\">\n",
              "  <thead>\n",
              "    <tr style=\"text-align: right;\">\n",
              "      <th></th>\n",
              "      <th>login</th>\n",
              "      <th>full_name</th>\n",
              "      <th>created_at</th>\n",
              "      <th>stargazers_count</th>\n",
              "      <th>watchers_count</th>\n",
              "      <th>language</th>\n",
              "      <th>has_projects</th>\n",
              "      <th>has_wiki</th>\n",
              "      <th>license_name</th>\n",
              "    </tr>\n",
              "  </thead>\n",
              "  <tbody>\n",
              "    <tr>\n",
              "      <th>0</th>\n",
              "      <td>ValentineFernandes</td>\n",
              "      <td>ValentineFernandes/Age-Calculator-</td>\n",
              "      <td>2022-08-17 06:32:19+00:00</td>\n",
              "      <td>13</td>\n",
              "      <td>13</td>\n",
              "      <td>CSS</td>\n",
              "      <td>true</td>\n",
              "      <td>true</td>\n",
              "      <td>mit</td>\n",
              "    </tr>\n",
              "    <tr>\n",
              "      <th>1</th>\n",
              "      <td>ValentineFernandes</td>\n",
              "      <td>ValentineFernandes/ASP.NET-</td>\n",
              "      <td>2022-04-26 10:12:11+00:00</td>\n",
              "      <td>18</td>\n",
              "      <td>18</td>\n",
              "      <td>ASP.NET</td>\n",
              "      <td>true</td>\n",
              "      <td>true</td>\n",
              "      <td>NaN</td>\n",
              "    </tr>\n",
              "    <tr>\n",
              "      <th>2</th>\n",
              "      <td>ValentineFernandes</td>\n",
              "      <td>ValentineFernandes/Assignment-4.2</td>\n",
              "      <td>2022-04-14 11:55:25+00:00</td>\n",
              "      <td>15</td>\n",
              "      <td>15</td>\n",
              "      <td>HTML</td>\n",
              "      <td>true</td>\n",
              "      <td>true</td>\n",
              "      <td>NaN</td>\n",
              "    </tr>\n",
              "    <tr>\n",
              "      <th>3</th>\n",
              "      <td>ValentineFernandes</td>\n",
              "      <td>ValentineFernandes/Bank-Management-System</td>\n",
              "      <td>2022-04-24 16:24:17+00:00</td>\n",
              "      <td>26</td>\n",
              "      <td>26</td>\n",
              "      <td>C</td>\n",
              "      <td>true</td>\n",
              "      <td>true</td>\n",
              "      <td>NaN</td>\n",
              "    </tr>\n",
              "    <tr>\n",
              "      <th>4</th>\n",
              "      <td>ValentineFernandes</td>\n",
              "      <td>ValentineFernandes/BMI-Calculator-Website</td>\n",
              "      <td>2022-08-17 04:47:27+00:00</td>\n",
              "      <td>11</td>\n",
              "      <td>11</td>\n",
              "      <td>HTML</td>\n",
              "      <td>true</td>\n",
              "      <td>true</td>\n",
              "      <td>mit</td>\n",
              "    </tr>\n",
              "  </tbody>\n",
              "</table>\n",
              "</div>\n",
              "    <div class=\"colab-df-buttons\">\n",
              "\n",
              "  <div class=\"colab-df-container\">\n",
              "    <button class=\"colab-df-convert\" onclick=\"convertToInteractive('df-6ae4e594-6847-4914-9635-bc0cfe202f17')\"\n",
              "            title=\"Convert this dataframe to an interactive table.\"\n",
              "            style=\"display:none;\">\n",
              "\n",
              "  <svg xmlns=\"http://www.w3.org/2000/svg\" height=\"24px\" viewBox=\"0 -960 960 960\">\n",
              "    <path d=\"M120-120v-720h720v720H120Zm60-500h600v-160H180v160Zm220 220h160v-160H400v160Zm0 220h160v-160H400v160ZM180-400h160v-160H180v160Zm440 0h160v-160H620v160ZM180-180h160v-160H180v160Zm440 0h160v-160H620v160Z\"/>\n",
              "  </svg>\n",
              "    </button>\n",
              "\n",
              "  <style>\n",
              "    .colab-df-container {\n",
              "      display:flex;\n",
              "      gap: 12px;\n",
              "    }\n",
              "\n",
              "    .colab-df-convert {\n",
              "      background-color: #E8F0FE;\n",
              "      border: none;\n",
              "      border-radius: 50%;\n",
              "      cursor: pointer;\n",
              "      display: none;\n",
              "      fill: #1967D2;\n",
              "      height: 32px;\n",
              "      padding: 0 0 0 0;\n",
              "      width: 32px;\n",
              "    }\n",
              "\n",
              "    .colab-df-convert:hover {\n",
              "      background-color: #E2EBFA;\n",
              "      box-shadow: 0px 1px 2px rgba(60, 64, 67, 0.3), 0px 1px 3px 1px rgba(60, 64, 67, 0.15);\n",
              "      fill: #174EA6;\n",
              "    }\n",
              "\n",
              "    .colab-df-buttons div {\n",
              "      margin-bottom: 4px;\n",
              "    }\n",
              "\n",
              "    [theme=dark] .colab-df-convert {\n",
              "      background-color: #3B4455;\n",
              "      fill: #D2E3FC;\n",
              "    }\n",
              "\n",
              "    [theme=dark] .colab-df-convert:hover {\n",
              "      background-color: #434B5C;\n",
              "      box-shadow: 0px 1px 3px 1px rgba(0, 0, 0, 0.15);\n",
              "      filter: drop-shadow(0px 1px 2px rgba(0, 0, 0, 0.3));\n",
              "      fill: #FFFFFF;\n",
              "    }\n",
              "  </style>\n",
              "\n",
              "    <script>\n",
              "      const buttonEl =\n",
              "        document.querySelector('#df-6ae4e594-6847-4914-9635-bc0cfe202f17 button.colab-df-convert');\n",
              "      buttonEl.style.display =\n",
              "        google.colab.kernel.accessAllowed ? 'block' : 'none';\n",
              "\n",
              "      async function convertToInteractive(key) {\n",
              "        const element = document.querySelector('#df-6ae4e594-6847-4914-9635-bc0cfe202f17');\n",
              "        const dataTable =\n",
              "          await google.colab.kernel.invokeFunction('convertToInteractive',\n",
              "                                                    [key], {});\n",
              "        if (!dataTable) return;\n",
              "\n",
              "        const docLinkHtml = 'Like what you see? Visit the ' +\n",
              "          '<a target=\"_blank\" href=https://colab.research.google.com/notebooks/data_table.ipynb>data table notebook</a>'\n",
              "          + ' to learn more about interactive tables.';\n",
              "        element.innerHTML = '';\n",
              "        dataTable['output_type'] = 'display_data';\n",
              "        await google.colab.output.renderOutput(dataTable, element);\n",
              "        const docLink = document.createElement('div');\n",
              "        docLink.innerHTML = docLinkHtml;\n",
              "        element.appendChild(docLink);\n",
              "      }\n",
              "    </script>\n",
              "  </div>\n",
              "\n",
              "\n",
              "<div id=\"df-4590d213-d442-4b46-a637-ac05c83775c0\">\n",
              "  <button class=\"colab-df-quickchart\" onclick=\"quickchart('df-4590d213-d442-4b46-a637-ac05c83775c0')\"\n",
              "            title=\"Suggest charts\"\n",
              "            style=\"display:none;\">\n",
              "\n",
              "<svg xmlns=\"http://www.w3.org/2000/svg\" height=\"24px\"viewBox=\"0 0 24 24\"\n",
              "     width=\"24px\">\n",
              "    <g>\n",
              "        <path d=\"M19 3H5c-1.1 0-2 .9-2 2v14c0 1.1.9 2 2 2h14c1.1 0 2-.9 2-2V5c0-1.1-.9-2-2-2zM9 17H7v-7h2v7zm4 0h-2V7h2v10zm4 0h-2v-4h2v4z\"/>\n",
              "    </g>\n",
              "</svg>\n",
              "  </button>\n",
              "\n",
              "<style>\n",
              "  .colab-df-quickchart {\n",
              "      --bg-color: #E8F0FE;\n",
              "      --fill-color: #1967D2;\n",
              "      --hover-bg-color: #E2EBFA;\n",
              "      --hover-fill-color: #174EA6;\n",
              "      --disabled-fill-color: #AAA;\n",
              "      --disabled-bg-color: #DDD;\n",
              "  }\n",
              "\n",
              "  [theme=dark] .colab-df-quickchart {\n",
              "      --bg-color: #3B4455;\n",
              "      --fill-color: #D2E3FC;\n",
              "      --hover-bg-color: #434B5C;\n",
              "      --hover-fill-color: #FFFFFF;\n",
              "      --disabled-bg-color: #3B4455;\n",
              "      --disabled-fill-color: #666;\n",
              "  }\n",
              "\n",
              "  .colab-df-quickchart {\n",
              "    background-color: var(--bg-color);\n",
              "    border: none;\n",
              "    border-radius: 50%;\n",
              "    cursor: pointer;\n",
              "    display: none;\n",
              "    fill: var(--fill-color);\n",
              "    height: 32px;\n",
              "    padding: 0;\n",
              "    width: 32px;\n",
              "  }\n",
              "\n",
              "  .colab-df-quickchart:hover {\n",
              "    background-color: var(--hover-bg-color);\n",
              "    box-shadow: 0 1px 2px rgba(60, 64, 67, 0.3), 0 1px 3px 1px rgba(60, 64, 67, 0.15);\n",
              "    fill: var(--button-hover-fill-color);\n",
              "  }\n",
              "\n",
              "  .colab-df-quickchart-complete:disabled,\n",
              "  .colab-df-quickchart-complete:disabled:hover {\n",
              "    background-color: var(--disabled-bg-color);\n",
              "    fill: var(--disabled-fill-color);\n",
              "    box-shadow: none;\n",
              "  }\n",
              "\n",
              "  .colab-df-spinner {\n",
              "    border: 2px solid var(--fill-color);\n",
              "    border-color: transparent;\n",
              "    border-bottom-color: var(--fill-color);\n",
              "    animation:\n",
              "      spin 1s steps(1) infinite;\n",
              "  }\n",
              "\n",
              "  @keyframes spin {\n",
              "    0% {\n",
              "      border-color: transparent;\n",
              "      border-bottom-color: var(--fill-color);\n",
              "      border-left-color: var(--fill-color);\n",
              "    }\n",
              "    20% {\n",
              "      border-color: transparent;\n",
              "      border-left-color: var(--fill-color);\n",
              "      border-top-color: var(--fill-color);\n",
              "    }\n",
              "    30% {\n",
              "      border-color: transparent;\n",
              "      border-left-color: var(--fill-color);\n",
              "      border-top-color: var(--fill-color);\n",
              "      border-right-color: var(--fill-color);\n",
              "    }\n",
              "    40% {\n",
              "      border-color: transparent;\n",
              "      border-right-color: var(--fill-color);\n",
              "      border-top-color: var(--fill-color);\n",
              "    }\n",
              "    60% {\n",
              "      border-color: transparent;\n",
              "      border-right-color: var(--fill-color);\n",
              "    }\n",
              "    80% {\n",
              "      border-color: transparent;\n",
              "      border-right-color: var(--fill-color);\n",
              "      border-bottom-color: var(--fill-color);\n",
              "    }\n",
              "    90% {\n",
              "      border-color: transparent;\n",
              "      border-bottom-color: var(--fill-color);\n",
              "    }\n",
              "  }\n",
              "</style>\n",
              "\n",
              "  <script>\n",
              "    async function quickchart(key) {\n",
              "      const quickchartButtonEl =\n",
              "        document.querySelector('#' + key + ' button');\n",
              "      quickchartButtonEl.disabled = true;  // To prevent multiple clicks.\n",
              "      quickchartButtonEl.classList.add('colab-df-spinner');\n",
              "      try {\n",
              "        const charts = await google.colab.kernel.invokeFunction(\n",
              "            'suggestCharts', [key], {});\n",
              "      } catch (error) {\n",
              "        console.error('Error during call to suggestCharts:', error);\n",
              "      }\n",
              "      quickchartButtonEl.classList.remove('colab-df-spinner');\n",
              "      quickchartButtonEl.classList.add('colab-df-quickchart-complete');\n",
              "    }\n",
              "    (() => {\n",
              "      let quickchartButtonEl =\n",
              "        document.querySelector('#df-4590d213-d442-4b46-a637-ac05c83775c0 button');\n",
              "      quickchartButtonEl.style.display =\n",
              "        google.colab.kernel.accessAllowed ? 'block' : 'none';\n",
              "    })();\n",
              "  </script>\n",
              "</div>\n",
              "\n",
              "    </div>\n",
              "  </div>\n"
            ],
            "application/vnd.google.colaboratory.intrinsic+json": {
              "type": "dataframe",
              "variable_name": "repos",
              "summary": "{\n  \"name\": \"repos\",\n  \"rows\": 44184,\n  \"fields\": [\n    {\n      \"column\": \"login\",\n      \"properties\": {\n        \"dtype\": \"category\",\n        \"num_unique_values\": 721,\n        \"samples\": [\n          \"RajGhugare19\",\n          \"ZakiMohammed\",\n          \"devdatta95\"\n        ],\n        \"semantic_type\": \"\",\n        \"description\": \"\"\n      }\n    },\n    {\n      \"column\": \"full_name\",\n      \"properties\": {\n        \"dtype\": \"string\",\n        \"num_unique_values\": 44184,\n        \"samples\": [\n          \"falcaozane/SPCC-Practicals\",\n          \"deadcoder0904/random-colors-generator\",\n          \"vinod1988/HubTaxi-Server\"\n        ],\n        \"semantic_type\": \"\",\n        \"description\": \"\"\n      }\n    },\n    {\n      \"column\": \"created_at\",\n      \"properties\": {\n        \"dtype\": \"date\",\n        \"min\": \"2008-07-26 07:35:12+00:00\",\n        \"max\": \"2024-10-29 14:43:33+00:00\",\n        \"num_unique_values\": 44173,\n        \"samples\": [\n          \"2018-03-14 11:22:04+00:00\",\n          \"2017-01-17 16:44:39+00:00\",\n          \"2015-05-04 12:46:24+00:00\"\n        ],\n        \"semantic_type\": \"\",\n        \"description\": \"\"\n      }\n    },\n    {\n      \"column\": \"stargazers_count\",\n      \"properties\": {\n        \"dtype\": \"number\",\n        \"std\": 167,\n        \"min\": 0,\n        \"max\": 24380,\n        \"num_unique_values\": 276,\n        \"samples\": [\n          59,\n          464,\n          187\n        ],\n        \"semantic_type\": \"\",\n        \"description\": \"\"\n      }\n    },\n    {\n      \"column\": \"watchers_count\",\n      \"properties\": {\n        \"dtype\": \"number\",\n        \"std\": 167,\n        \"min\": 0,\n        \"max\": 24380,\n        \"num_unique_values\": 276,\n        \"samples\": [\n          59,\n          464,\n          187\n        ],\n        \"semantic_type\": \"\",\n        \"description\": \"\"\n      }\n    },\n    {\n      \"column\": \"language\",\n      \"properties\": {\n        \"dtype\": \"category\",\n        \"num_unique_values\": 138,\n        \"samples\": [\n          \"Pug\",\n          \"Protocol Buffer\",\n          \"R\"\n        ],\n        \"semantic_type\": \"\",\n        \"description\": \"\"\n      }\n    },\n    {\n      \"column\": \"has_projects\",\n      \"properties\": {\n        \"dtype\": \"category\",\n        \"num_unique_values\": 2,\n        \"samples\": [\n          \"false\",\n          \"true\"\n        ],\n        \"semantic_type\": \"\",\n        \"description\": \"\"\n      }\n    },\n    {\n      \"column\": \"has_wiki\",\n      \"properties\": {\n        \"dtype\": \"category\",\n        \"num_unique_values\": 2,\n        \"samples\": [\n          \"false\",\n          \"true\"\n        ],\n        \"semantic_type\": \"\",\n        \"description\": \"\"\n      }\n    },\n    {\n      \"column\": \"license_name\",\n      \"properties\": {\n        \"dtype\": \"category\",\n        \"num_unique_values\": 32,\n        \"samples\": [\n          \"postgresql\",\n          \"zlib\"\n        ],\n        \"semantic_type\": \"\",\n        \"description\": \"\"\n      }\n    }\n  ]\n}"
            }
          },
          "metadata": {},
          "execution_count": 9
        }
      ]
    },
    {
      "cell_type": "code",
      "source": [
        "repos.info()"
      ],
      "metadata": {
        "colab": {
          "base_uri": "https://localhost:8080/"
        },
        "id": "V3uaf-KPTMXZ",
        "outputId": "fb37e793-3671-473d-9e78-751ae0b5612f"
      },
      "execution_count": 10,
      "outputs": [
        {
          "output_type": "stream",
          "name": "stdout",
          "text": [
            "<class 'pandas.core.frame.DataFrame'>\n",
            "RangeIndex: 44184 entries, 0 to 44183\n",
            "Data columns (total 9 columns):\n",
            " #   Column            Non-Null Count  Dtype              \n",
            "---  ------            --------------  -----              \n",
            " 0   login             44184 non-null  object             \n",
            " 1   full_name         44184 non-null  object             \n",
            " 2   created_at        44184 non-null  datetime64[ns, UTC]\n",
            " 3   stargazers_count  44184 non-null  int64              \n",
            " 4   watchers_count    44184 non-null  int64              \n",
            " 5   language          31820 non-null  object             \n",
            " 6   has_projects      44184 non-null  object             \n",
            " 7   has_wiki          44184 non-null  object             \n",
            " 8   license_name      15879 non-null  object             \n",
            "dtypes: datetime64[ns, UTC](1), int64(2), object(6)\n",
            "memory usage: 3.0+ MB\n"
          ]
        }
      ]
    },
    {
      "cell_type": "markdown",
      "source": [
        "Q1 Who are the top 5 users in Mumbai with the highest number of followers? List their login in order, comma-separated."
      ],
      "metadata": {
        "id": "t5enx5aFTRHr"
      }
    },
    {
      "cell_type": "code",
      "source": [
        "# Filter users from Mumbai (case-insensitive)\n",
        "mumbai_users = users[users['location'].str.lower().str.contains('mumbai', na=False)]\n",
        "\n",
        "# Sort by followers in descending order and get top 5\n",
        "top_5_users = mumbai_users.nlargest(5, 'followers')\n",
        "\n",
        "# Get their logins as comma-separated string\n",
        "result = ','.join(top_5_users['login'].tolist())\n",
        "\n",
        "print(\"Top 5 Mumbai users by followers:\")\n",
        "print(result)"
      ],
      "metadata": {
        "colab": {
          "base_uri": "https://localhost:8080/"
        },
        "id": "HEEt8hsmTa9Q",
        "outputId": "64c4fc6f-cc25-4226-b8f0-9423403ed666"
      },
      "execution_count": 12,
      "outputs": [
        {
          "output_type": "stream",
          "name": "stdout",
          "text": [
            "Top 5 Mumbai users by followers:\n",
            "ValentineFernandes,kovidgoyal,slidenerd,aryashah2k,coding-parrot\n"
          ]
        }
      ]
    },
    {
      "cell_type": "markdown",
      "source": [
        "Q2 Who are the 5 earliest registered GitHub users in Mumbai? List their login in ascending order of created_at, comma-separated."
      ],
      "metadata": {
        "id": "Cs4S3qPwTuew"
      }
    },
    {
      "cell_type": "code",
      "source": [
        "# Convert created_at to datetime for proper sorting\n",
        "users['created_at'] = pd.to_datetime(users['created_at'])\n",
        "\n",
        "# Filter users from Mumbai (case-insensitive)\n",
        "mumbai_users = users[users['location'].str.lower().str.contains('mumbai', na=False)]\n",
        "\n",
        "# Sort by creation date (ascending) and get first 5\n",
        "earliest_users = mumbai_users.nsmallest(5, 'created_at')\n",
        "\n",
        "# Get their logins as comma-separated string\n",
        "result = ','.join(earliest_users['login'].tolist())\n",
        "\n",
        "print(\"5 earliest Mumbai GitHub users:\")\n",
        "print(result)"
      ],
      "metadata": {
        "colab": {
          "base_uri": "https://localhost:8080/"
        },
        "id": "ZSDtaP_LTpiK",
        "outputId": "c3e649a8-cf65-4296-8cc2-1571eba2ef64"
      },
      "execution_count": 13,
      "outputs": [
        {
          "output_type": "stream",
          "name": "stdout",
          "text": [
            "5 earliest Mumbai GitHub users:\n",
            "ivank,sandeepshetty,svs,nitinhayaran,nischal\n"
          ]
        }
      ]
    },
    {
      "cell_type": "markdown",
      "source": [
        "Q3 What are the 3 most popular license among these users? Ignore missing licenses. List the license_name in order, comma-separated.\n",
        "Licenses"
      ],
      "metadata": {
        "id": "pewoUAGTT_61"
      }
    },
    {
      "cell_type": "code",
      "source": [
        "','.join(repos['license_name'].value_counts(dropna=True).index[:3].to_list())"
      ],
      "metadata": {
        "colab": {
          "base_uri": "https://localhost:8080/",
          "height": 36
        },
        "id": "9Fst9CTiT9B0",
        "outputId": "7ec28c5d-e735-4110-82d0-87a4c580adb0"
      },
      "execution_count": 14,
      "outputs": [
        {
          "output_type": "execute_result",
          "data": {
            "text/plain": [
              "'mit,apache-2.0,other'"
            ],
            "application/vnd.google.colaboratory.intrinsic+json": {
              "type": "string"
            }
          },
          "metadata": {},
          "execution_count": 14
        }
      ]
    },
    {
      "cell_type": "markdown",
      "source": [
        "Q4  Which company do the majority of these developers work at?"
      ],
      "metadata": {
        "id": "Igb0ay-CUbgI"
      }
    },
    {
      "cell_type": "code",
      "source": [
        "users['company'].value_counts().index[0]"
      ],
      "metadata": {
        "colab": {
          "base_uri": "https://localhost:8080/",
          "height": 36
        },
        "id": "ud8wHRugUal6",
        "outputId": "fb35d891-c7d9-4ae6-9581-3357036ad121"
      },
      "execution_count": 15,
      "outputs": [
        {
          "output_type": "execute_result",
          "data": {
            "text/plain": [
              "'MASAI SCHOOL'"
            ],
            "application/vnd.google.colaboratory.intrinsic+json": {
              "type": "string"
            }
          },
          "metadata": {},
          "execution_count": 15
        }
      ]
    },
    {
      "cell_type": "markdown",
      "source": [
        "Q5  Which programming language is most popular among these users?"
      ],
      "metadata": {
        "id": "tgKZImkcUjc3"
      }
    },
    {
      "cell_type": "code",
      "source": [
        "repos['language'].value_counts().index[0]"
      ],
      "metadata": {
        "colab": {
          "base_uri": "https://localhost:8080/",
          "height": 36
        },
        "id": "ROdlkllbUm7O",
        "outputId": "54bf1774-664b-4963-a839-be18d8bd2383"
      },
      "execution_count": 16,
      "outputs": [
        {
          "output_type": "execute_result",
          "data": {
            "text/plain": [
              "'JavaScript'"
            ],
            "application/vnd.google.colaboratory.intrinsic+json": {
              "type": "string"
            }
          },
          "metadata": {},
          "execution_count": 16
        }
      ]
    },
    {
      "cell_type": "markdown",
      "source": [
        "Q6  Which programming language is the second most popular among users who joined after 2020?\n"
      ],
      "metadata": {
        "id": "togRYUtCUrK3"
      }
    },
    {
      "cell_type": "code",
      "source": [
        "users_post_2020 = users.query('created_at > \"2020-01-01 00:00:00+00:00\"')\n",
        "repos_2020 = repos[repos['login'].isin(users_post_2020['login'].tolist())]\n",
        "repos_2020['language'].value_counts().index[1]"
      ],
      "metadata": {
        "colab": {
          "base_uri": "https://localhost:8080/",
          "height": 36
        },
        "id": "lLOLvPE9Uvym",
        "outputId": "17a15756-e6ca-4f6f-dc1e-3fa0394f40a2"
      },
      "execution_count": 17,
      "outputs": [
        {
          "output_type": "execute_result",
          "data": {
            "text/plain": [
              "'HTML'"
            ],
            "application/vnd.google.colaboratory.intrinsic+json": {
              "type": "string"
            }
          },
          "metadata": {},
          "execution_count": 17
        }
      ]
    },
    {
      "cell_type": "markdown",
      "source": [
        "Q7 Which language has the highest average number of stars per repository?"
      ],
      "metadata": {
        "id": "qXZkc7zgUzw5"
      }
    },
    {
      "cell_type": "code",
      "source": [
        "repos.groupby('language')['stargazers_count'].mean().idxmax()"
      ],
      "metadata": {
        "colab": {
          "base_uri": "https://localhost:8080/",
          "height": 36
        },
        "id": "Ob02pmK4VIle",
        "outputId": "2277b187-178b-4a3e-fa64-4c90545fff93"
      },
      "execution_count": 18,
      "outputs": [
        {
          "output_type": "execute_result",
          "data": {
            "text/plain": [
              "'TSQL'"
            ],
            "application/vnd.google.colaboratory.intrinsic+json": {
              "type": "string"
            }
          },
          "metadata": {},
          "execution_count": 18
        }
      ]
    },
    {
      "cell_type": "markdown",
      "source": [
        "Q8 Let's define leader_strength as followers / (1 + following). Who are the top 5 in terms of leader_strength? List their login in order, comma-separated.\n",
        "User login"
      ],
      "metadata": {
        "id": "uik3qWieVM9u"
      }
    },
    {
      "cell_type": "code",
      "source": [
        "users['leader_strength'] = users['followers'] / (1 + users['following'])\n",
        "','.join(users.sort_values(by='leader_strength', ascending=False).iloc[:5, 0].to_list())"
      ],
      "metadata": {
        "colab": {
          "base_uri": "https://localhost:8080/",
          "height": 36
        },
        "id": "fGY2TBheVSCf",
        "outputId": "b46d5e2a-e965-4570-9568-153843fb2d15"
      },
      "execution_count": 19,
      "outputs": [
        {
          "output_type": "execute_result",
          "data": {
            "text/plain": [
              "'kovidgoyal,coding-parrot,gkcs,slidenerd,dmalvia'"
            ],
            "application/vnd.google.colaboratory.intrinsic+json": {
              "type": "string"
            }
          },
          "metadata": {},
          "execution_count": 19
        }
      ]
    },
    {
      "cell_type": "markdown",
      "source": [
        "Q9 What is the correlation between the number of followers and the number of public repositories among users in Mumbai?"
      ],
      "metadata": {
        "id": "bxfuOCKkVYSw"
      }
    },
    {
      "cell_type": "code",
      "source": [
        "f\"{users['followers'].corr(users['public_repos']):.3f}\""
      ],
      "metadata": {
        "colab": {
          "base_uri": "https://localhost:8080/",
          "height": 36
        },
        "id": "8jIGS9geVdze",
        "outputId": "551577c4-70a2-4a65-dfae-8e62ba28163b"
      },
      "execution_count": 20,
      "outputs": [
        {
          "output_type": "execute_result",
          "data": {
            "text/plain": [
              "'0.034'"
            ],
            "application/vnd.google.colaboratory.intrinsic+json": {
              "type": "string"
            }
          },
          "metadata": {},
          "execution_count": 20
        }
      ]
    },
    {
      "cell_type": "markdown",
      "source": [
        "Q10 Does creating more repos help users get more followers? Using regression, estimate how many additional followers a user gets per additional public repository."
      ],
      "metadata": {
        "id": "U8Da3qqzVi51"
      }
    },
    {
      "cell_type": "code",
      "source": [
        "from scipy.stats import linregress\n",
        "f\"{linregress(users['public_repos'], users['followers']).slope:.3f}\""
      ],
      "metadata": {
        "colab": {
          "base_uri": "https://localhost:8080/",
          "height": 36
        },
        "id": "WBkuyxGIVmup",
        "outputId": "cdb64769-4a97-40e6-b60b-70fca480cd3a"
      },
      "execution_count": 21,
      "outputs": [
        {
          "output_type": "execute_result",
          "data": {
            "text/plain": [
              "'0.100'"
            ],
            "application/vnd.google.colaboratory.intrinsic+json": {
              "type": "string"
            }
          },
          "metadata": {},
          "execution_count": 21
        }
      ]
    },
    {
      "cell_type": "markdown",
      "source": [
        "Q11 Do people typically enable projects and wikis together? What is the correlation between a repo having projects enabled and having wiki enabled?"
      ],
      "metadata": {
        "id": "IPCLFznRVrWV"
      }
    },
    {
      "cell_type": "code",
      "source": [
        "import statsmodels.api as sm\n",
        "\n",
        "# Prepare the data\n",
        "X = users['public_repos']  # Independent variable: number of public repositories\n",
        "y = users['followers']     # Dependent variable: number of followers\n",
        "\n",
        "# Add a constant to the independent variable (for the intercept)\n",
        "X = sm.add_constant(X)\n",
        "\n",
        "# Perform the regression\n",
        "model = sm.OLS(y, X).fit()\n",
        "\n",
        "# Print the summary of the regression\n",
        "print(model.summary())\n",
        "\n",
        "# Get the coefficient for 'public_repos'\n",
        "repo_coefficient = model.params['public_repos']\n",
        "print(f\"Estimated additional followers per additional public repository: {repo_coefficient:.3f}\")"
      ],
      "metadata": {
        "colab": {
          "base_uri": "https://localhost:8080/"
        },
        "id": "UJjNSJGrVxdn",
        "outputId": "22a35863-b410-4e35-b24c-ea794c0ca818"
      },
      "execution_count": 22,
      "outputs": [
        {
          "output_type": "stream",
          "name": "stdout",
          "text": [
            "                            OLS Regression Results                            \n",
            "==============================================================================\n",
            "Dep. Variable:              followers   R-squared:                       0.001\n",
            "Model:                            OLS   Adj. R-squared:                 -0.000\n",
            "Method:                 Least Squares   F-statistic:                    0.8461\n",
            "Date:                Sat, 02 Nov 2024   Prob (F-statistic):              0.358\n",
            "Time:                        05:27:05   Log-Likelihood:                -5238.0\n",
            "No. Observations:                 724   AIC:                         1.048e+04\n",
            "Df Residuals:                     722   BIC:                         1.049e+04\n",
            "Df Model:                           1                                         \n",
            "Covariance Type:            nonrobust                                         \n",
            "================================================================================\n",
            "                   coef    std err          t      P>|t|      [0.025      0.975]\n",
            "--------------------------------------------------------------------------------\n",
            "const          150.6916     14.143     10.655      0.000     122.925     178.458\n",
            "public_repos     0.1000      0.109      0.920      0.358      -0.113       0.314\n",
            "==============================================================================\n",
            "Omnibus:                     1179.732   Durbin-Watson:                   0.042\n",
            "Prob(Omnibus):                  0.000   Jarque-Bera (JB):           450089.271\n",
            "Skew:                           9.956   Prob(JB):                         0.00\n",
            "Kurtosis:                     123.514   Cond. No.                         147.\n",
            "==============================================================================\n",
            "\n",
            "Notes:\n",
            "[1] Standard Errors assume that the covariance matrix of the errors is correctly specified.\n",
            "Estimated additional followers per additional public repository: 0.100\n"
          ]
        }
      ]
    },
    {
      "cell_type": "markdown",
      "source": [
        "Q12 Do hireable users follow more people than those who are not hireable?"
      ],
      "metadata": {
        "id": "3Z90_UeWV24O"
      }
    },
    {
      "cell_type": "code",
      "source": [
        "\n",
        "hireable_following = users[users['hireable'] == True]['following'].mean()\n",
        "non_hireable_following = users[users['hireable'] != True]['following'].mean()\n",
        "f\"{hireable_following - non_hireable_following:.3f}\"\n",
        ""
      ],
      "metadata": {
        "colab": {
          "base_uri": "https://localhost:8080/",
          "height": 36
        },
        "id": "LqQEWSboV9XW",
        "outputId": "fba7af02-78f3-4670-dfc8-3e5549290586"
      },
      "execution_count": 23,
      "outputs": [
        {
          "output_type": "execute_result",
          "data": {
            "text/plain": [
              "'nan'"
            ],
            "application/vnd.google.colaboratory.intrinsic+json": {
              "type": "string"
            }
          },
          "metadata": {},
          "execution_count": 23
        }
      ]
    },
    {
      "cell_type": "markdown",
      "source": [
        "Q13 Some developers write long bios. Does that help them get more followers? What's the impact of the length of their bio (in Unicode words, split by whitespace) with followers? (Ignore people without bios)"
      ],
      "metadata": {
        "id": "UMroHkhwWGVG"
      }
    },
    {
      "cell_type": "code",
      "source": [
        "users_with_bio = users.loc[users['bio'].notna(), :].copy().reset_index(drop=True, inplace=False)\n",
        "users_with_bio['bio_length'] = users_with_bio['bio'].str.strip().str.split().str.len()\n",
        "f\"{linregress(users_with_bio['bio_length'], users_with_bio['followers']).slope:.3f}\""
      ],
      "metadata": {
        "colab": {
          "base_uri": "https://localhost:8080/",
          "height": 36
        },
        "id": "ur3IoqsEWKLQ",
        "outputId": "3a39107f-e24a-4099-f10d-268dea671627"
      },
      "execution_count": 24,
      "outputs": [
        {
          "output_type": "execute_result",
          "data": {
            "text/plain": [
              "'-0.388'"
            ],
            "application/vnd.google.colaboratory.intrinsic+json": {
              "type": "string"
            }
          },
          "metadata": {},
          "execution_count": 24
        }
      ]
    },
    {
      "cell_type": "markdown",
      "source": [
        "Q14 Who created the most repositories on weekends (UTC)? List the top 5 users' login in order, comma-separated"
      ],
      "metadata": {
        "id": "lBA8g1SWWOCN"
      }
    },
    {
      "cell_type": "code",
      "source": [
        "','.join(repos[repos['created_at'].dt.weekday >= 5].groupby('login').size().sort_values(ascending=False)[:5].index.to_list())\n",
        ""
      ],
      "metadata": {
        "colab": {
          "base_uri": "https://localhost:8080/",
          "height": 36
        },
        "id": "u6uVnipxWSEd",
        "outputId": "ee625fb5-9126-4328-f5e3-c74241484973"
      },
      "execution_count": 25,
      "outputs": [
        {
          "output_type": "execute_result",
          "data": {
            "text/plain": [
              "'mohd14shoeb,vinod1988,Kushal334,patilswapnilv,alokproc'"
            ],
            "application/vnd.google.colaboratory.intrinsic+json": {
              "type": "string"
            }
          },
          "metadata": {},
          "execution_count": 25
        }
      ]
    },
    {
      "cell_type": "markdown",
      "source": [
        "Q15 Do people who are hireable share their email addresses more often?"
      ],
      "metadata": {
        "id": "g7XsKnM4WWtV"
      }
    },
    {
      "cell_type": "code",
      "source": [
        "hireable_true = users[users['hireable'] == True]\n",
        "fraction_hireable_true = hireable_true['email'].notna().mean()\n",
        "\n",
        "hireable_other = users[users['hireable'] != True]\n",
        "fraction_hireable_other = hireable_other['email'].notna().mean()\n",
        "\n",
        "f\"{(fraction_hireable_true - fraction_hireable_other):.3f}\"\n",
        ""
      ],
      "metadata": {
        "colab": {
          "base_uri": "https://localhost:8080/",
          "height": 36
        },
        "id": "6QoAuCb5WbR1",
        "outputId": "5e838603-0807-4815-d68f-13b04bda4a43"
      },
      "execution_count": 26,
      "outputs": [
        {
          "output_type": "execute_result",
          "data": {
            "text/plain": [
              "'nan'"
            ],
            "application/vnd.google.colaboratory.intrinsic+json": {
              "type": "string"
            }
          },
          "metadata": {},
          "execution_count": 26
        }
      ]
    },
    {
      "cell_type": "markdown",
      "source": [
        "Q16 Let's assume that the last word in a user's name is their surname (ignore missing names, trim and split by whitespace.) What's the most common surname? (If there's a tie, list them all, comma-separated, alphabetically)"
      ],
      "metadata": {
        "id": "Hqzz2AtSWizE"
      }
    },
    {
      "cell_type": "code",
      "source": [
        "users['name'].str.strip().str.split().str[-1].value_counts().head()"
      ],
      "metadata": {
        "colab": {
          "base_uri": "https://localhost:8080/",
          "height": 272
        },
        "id": "dAREX8c5WfQs",
        "outputId": "9ac37c9e-244b-4771-933f-e44df21b3bde"
      },
      "execution_count": 27,
      "outputs": [
        {
          "output_type": "execute_result",
          "data": {
            "text/plain": [
              "name\n",
              "Singh     17\n",
              "Shah      15\n",
              "Yadav     13\n",
              "Shaikh    11\n",
              "Sharma    10\n",
              "Name: count, dtype: int64"
            ],
            "text/html": [
              "<div>\n",
              "<style scoped>\n",
              "    .dataframe tbody tr th:only-of-type {\n",
              "        vertical-align: middle;\n",
              "    }\n",
              "\n",
              "    .dataframe tbody tr th {\n",
              "        vertical-align: top;\n",
              "    }\n",
              "\n",
              "    .dataframe thead th {\n",
              "        text-align: right;\n",
              "    }\n",
              "</style>\n",
              "<table border=\"1\" class=\"dataframe\">\n",
              "  <thead>\n",
              "    <tr style=\"text-align: right;\">\n",
              "      <th></th>\n",
              "      <th>count</th>\n",
              "    </tr>\n",
              "    <tr>\n",
              "      <th>name</th>\n",
              "      <th></th>\n",
              "    </tr>\n",
              "  </thead>\n",
              "  <tbody>\n",
              "    <tr>\n",
              "      <th>Singh</th>\n",
              "      <td>17</td>\n",
              "    </tr>\n",
              "    <tr>\n",
              "      <th>Shah</th>\n",
              "      <td>15</td>\n",
              "    </tr>\n",
              "    <tr>\n",
              "      <th>Yadav</th>\n",
              "      <td>13</td>\n",
              "    </tr>\n",
              "    <tr>\n",
              "      <th>Shaikh</th>\n",
              "      <td>11</td>\n",
              "    </tr>\n",
              "    <tr>\n",
              "      <th>Sharma</th>\n",
              "      <td>10</td>\n",
              "    </tr>\n",
              "  </tbody>\n",
              "</table>\n",
              "</div><br><label><b>dtype:</b> int64</label>"
            ]
          },
          "metadata": {},
          "execution_count": 27
        }
      ]
    },
    {
      "cell_type": "code",
      "source": [
        "# Tie b/w Martínez & Ortiz\n",
        "users['name'].str.strip().str.split().str[-1].value_counts().head(2)"
      ],
      "metadata": {
        "colab": {
          "base_uri": "https://localhost:8080/",
          "height": 178
        },
        "id": "CRg7no_YWsTm",
        "outputId": "f8e0cb02-a441-45bd-f7f3-5ee02df81373"
      },
      "execution_count": 28,
      "outputs": [
        {
          "output_type": "execute_result",
          "data": {
            "text/plain": [
              "name\n",
              "Singh    17\n",
              "Shah     15\n",
              "Name: count, dtype: int64"
            ],
            "text/html": [
              "<div>\n",
              "<style scoped>\n",
              "    .dataframe tbody tr th:only-of-type {\n",
              "        vertical-align: middle;\n",
              "    }\n",
              "\n",
              "    .dataframe tbody tr th {\n",
              "        vertical-align: top;\n",
              "    }\n",
              "\n",
              "    .dataframe thead th {\n",
              "        text-align: right;\n",
              "    }\n",
              "</style>\n",
              "<table border=\"1\" class=\"dataframe\">\n",
              "  <thead>\n",
              "    <tr style=\"text-align: right;\">\n",
              "      <th></th>\n",
              "      <th>count</th>\n",
              "    </tr>\n",
              "    <tr>\n",
              "      <th>name</th>\n",
              "      <th></th>\n",
              "    </tr>\n",
              "  </thead>\n",
              "  <tbody>\n",
              "    <tr>\n",
              "      <th>Singh</th>\n",
              "      <td>17</td>\n",
              "    </tr>\n",
              "    <tr>\n",
              "      <th>Shah</th>\n",
              "      <td>15</td>\n",
              "    </tr>\n",
              "  </tbody>\n",
              "</table>\n",
              "</div><br><label><b>dtype:</b> int64</label>"
            ]
          },
          "metadata": {},
          "execution_count": 28
        }
      ]
    }
  ]
}